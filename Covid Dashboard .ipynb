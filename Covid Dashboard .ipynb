{
 "cells": [
  {
   "cell_type": "markdown",
   "id": "eb908ef3",
   "metadata": {},
   "source": [
    "# Make Covid-19 Dashboard by AW"
   ]
  },
  {
   "cell_type": "markdown",
   "id": "97fbfcf1",
   "metadata": {},
   "source": [
    "# Import modules"
   ]
  },
  {
   "cell_type": "code",
   "execution_count": 2,
   "id": "f2a9c58d",
   "metadata": {},
   "outputs": [],
   "source": [
    "# Import modules\n",
    "\n",
    "import dash\n",
    "from dash import html\n",
    "import dash_bootstrap_components as dbc\n",
    "from dash import dcc\n",
    "import requests\n",
    "import json\n",
    "import pandas as pd\n",
    "import pycountry\n",
    "\n",
    "import datetime\n",
    "from datetime import datetime as dt\n"
   ]
  },
  {
   "cell_type": "code",
   "execution_count": 7,
   "id": "1a6836e1",
   "metadata": {},
   "outputs": [],
   "source": [
    "# Check libraries are installed and updated\n",
    "\n",
    "#!pip install dash==2.0.0 dash-bootstrap-components==1.5.0 plotly==5.5.0 pycountry==23.3.0\n"
   ]
  },
  {
   "cell_type": "code",
   "execution_count": 12,
   "id": "aa2785aa",
   "metadata": {},
   "outputs": [],
   "source": []
  },
  {
   "cell_type": "code",
   "execution_count": 16,
   "id": "c90f633b",
   "metadata": {
    "scrolled": true
   },
   "outputs": [
    {
     "name": "stdout",
     "output_type": "stream",
     "text": [
      "Dash is running on http://127.0.0.1:8050/\n",
      "\n",
      " * Serving Flask app '__main__'\n",
      " * Debug mode: on\n"
     ]
    },
    {
     "ename": "SystemExit",
     "evalue": "1",
     "output_type": "error",
     "traceback": [
      "An exception has occurred, use %tb to see the full traceback.\n",
      "\u001b[1;31mSystemExit\u001b[0m\u001b[1;31m:\u001b[0m 1\n"
     ]
    },
    {
     "name": "stderr",
     "output_type": "stream",
     "text": [
      "C:\\Users\\PTS\\anaconda3\\lib\\site-packages\\IPython\\core\\interactiveshell.py:3468: UserWarning: To exit: use 'exit', 'quit', or Ctrl-D.\n",
      "  warn(\"To exit: use 'exit', 'quit', or Ctrl-D.\", stacklevel=1)\n"
     ]
    }
   ],
   "source": [
    "# Initialize the Dash App\n",
    "\n",
    "app = dash.Dash(__name__)\n",
    "\n",
    "\n",
    "# Generate a list of countries\n",
    "countries = [country.name for country in pycountry.countries]\n",
    "\n",
    "# Create the options list for the dropdown menu\n",
    "dropdown_options = [{'label': country, 'value': country} for country in countries]\n",
    "\n",
    "\n",
    "# Define the layout structure\n",
    "app.layout = html.Div(\n",
    "    [\n",
    "        html.H1(\"COVID-19 Dashboard\"),\n",
    "        dcc.Graph(\n",
    "            id='cases-graph',\n",
    "            figure={\n",
    "                'data': [\n",
    "                    {'x': ['Jan', 'Feb', 'Mar'], 'y': [100, 200, 300], 'type': 'bar', 'name': 'Cases'},\n",
    "                    {'x': ['Jan', 'Feb', 'Mar'], 'y': [50, 100, 150], 'type': 'bar', 'name': 'Deaths'},\n",
    "                    {'x': ['Jan', 'Feb', 'Mar'], 'y': [80, 150, 200], 'type': 'bar', 'name': 'Recoveries'}\n",
    "                ],\n",
    "                'layout': {\n",
    "                    'title': 'Daily COVID-19 Cases, Deaths, and Recoveries'\n",
    "                }\n",
    "            }\n",
    "        ),\n",
    "        dcc.Dropdown(\n",
    "            id='country-dropdown',\n",
    "            options=dropdown_options,\n",
    "            value='USA',\n",
    "            style={'width': '300px'}\n",
    "        ),\n",
    "        \n",
    "        \n",
    "        \n",
    "        dbc.Form(\n",
    "            [\n",
    "                dbc.Row(\n",
    "                    [\n",
    "                        dbc.Col(\n",
    "                            [\n",
    "                                dbc.Label(\"Select Date From:- \"),\n",
    "                                dcc.DatePickerSingle(\n",
    "                                    id=\"date-picker1\",\n",
    "                                    display_format=\"YYYY-MM-DD\",\n",
    "                                    min_date_allowed=dt(2020, 1, 1),\n",
    "                                    max_date_allowed=dt.today().date(),\n",
    "                                    initial_visible_month=dt.today().date(),\n",
    "                                ),\n",
    "                            ],\n",
    "                            width=\"300px\",  # Adjust the width as needed\n",
    "                            style={\"margin-right\": \"20px\"}  # Add margin-right for spacing\n",
    "                        ),\n",
    "                        dbc.Col(\n",
    "                            [\n",
    "                                dbc.Label(\"Select Date To:- \"),\n",
    "                                dcc.DatePickerSingle(\n",
    "                                    id=\"date-picker2\",\n",
    "                                    display_format=\"YYYY-MM-DD\",\n",
    "                                    min_date_allowed=dt(2020, 1, 1),\n",
    "                                    max_date_allowed=dt.today().date(),\n",
    "                                    initial_visible_month=dt.today().date(),\n",
    "                                ),\n",
    "                            ],\n",
    "                            width=\"300px\",  # Adjust the width as needed\n",
    "                        ),\n",
    "                    ]\n",
    "                )\n",
    "            ]\n",
    "        ),\n",
    "        html.Div(id='selected-data-output')\n",
    "    ]\n",
    ")\n",
    "\n",
    "if __name__ == '__main__':\n",
    "    app.run(debug=True, port=8050)\n"
   ]
  },
  {
   "cell_type": "code",
   "execution_count": null,
   "id": "0a7d5761",
   "metadata": {},
   "outputs": [],
   "source": [
    "\n"
   ]
  },
  {
   "cell_type": "code",
   "execution_count": 9,
   "id": "cc44a0c9",
   "metadata": {},
   "outputs": [],
   "source": [
    "# Fetch data from the API\n",
    "\n",
    "#url = \"https://api.covid19api.com/summary\"\n",
    "#url = \"https://api.covidtracking.com\"\n",
    "url = \"https://www.covid19dataportal.org/api/backend/\"\n",
    "\n",
    "#url = \"https://www.ebi.ac.uk/ebisearch/ws/rest\"\n",
    "\n",
    "#url = \"https://thevirustracker.com/timeline/map-data.json\"\n",
    "response = requests.get(url)\n",
    "data = json.loads(response.text)\n"
   ]
  },
  {
   "cell_type": "code",
   "execution_count": 10,
   "id": "b88e5045",
   "metadata": {},
   "outputs": [
    {
     "name": "stdout",
     "output_type": "stream",
     "text": [
      "{'timestamp': '2023-05-29T16:41:10.382+0000', 'status': 404, 'error': 'Not Found', 'message': 'No message available', 'path': '/api/backend/'}\n"
     ]
    }
   ],
   "source": [
    "print(data)"
   ]
  },
  {
   "cell_type": "code",
   "execution_count": 11,
   "id": "b9f15d5d",
   "metadata": {
    "scrolled": false
   },
   "outputs": [
    {
     "ename": "KeyError",
     "evalue": "'cases'",
     "output_type": "error",
     "traceback": [
      "\u001b[1;31m---------------------------------------------------------------------------\u001b[0m",
      "\u001b[1;31mKeyError\u001b[0m                                  Traceback (most recent call last)",
      "Cell \u001b[1;32mIn[11], line 3\u001b[0m\n\u001b[0;32m      1\u001b[0m \u001b[38;5;66;03m# Extract the relevant information\u001b[39;00m\n\u001b[1;32m----> 3\u001b[0m cases \u001b[38;5;241m=\u001b[39m \u001b[43mdata\u001b[49m\u001b[43m[\u001b[49m\u001b[38;5;124;43m'\u001b[39;49m\u001b[38;5;124;43mcases\u001b[39;49m\u001b[38;5;124;43m'\u001b[39;49m\u001b[43m]\u001b[49m\n\u001b[0;32m      4\u001b[0m deaths \u001b[38;5;241m=\u001b[39m data[\u001b[38;5;124m'\u001b[39m\u001b[38;5;124mdeaths\u001b[39m\u001b[38;5;124m'\u001b[39m]\n\u001b[0;32m      5\u001b[0m recoveries \u001b[38;5;241m=\u001b[39m data[\u001b[38;5;124m'\u001b[39m\u001b[38;5;124mrecoveries\u001b[39m\u001b[38;5;124m'\u001b[39m]\n",
      "\u001b[1;31mKeyError\u001b[0m: 'cases'"
     ]
    }
   ],
   "source": [
    "# Extract the relevant information\n",
    "\n",
    "cases = data['cases']\n",
    "deaths = data['deaths']\n",
    "recoveries = data['recoveries']"
   ]
  },
  {
   "cell_type": "code",
   "execution_count": null,
   "id": "b6918d80",
   "metadata": {},
   "outputs": [],
   "source": []
  },
  {
   "cell_type": "code",
   "execution_count": null,
   "id": "a58a8bc9",
   "metadata": {},
   "outputs": [],
   "source": []
  },
  {
   "cell_type": "code",
   "execution_count": null,
   "id": "fb4e4f04",
   "metadata": {},
   "outputs": [],
   "source": []
  },
  {
   "cell_type": "code",
   "execution_count": null,
   "id": "f06c13df",
   "metadata": {},
   "outputs": [],
   "source": []
  },
  {
   "cell_type": "code",
   "execution_count": null,
   "id": "f94b8bc8",
   "metadata": {},
   "outputs": [],
   "source": []
  }
 ],
 "metadata": {
  "kernelspec": {
   "display_name": "Python 3 (ipykernel)",
   "language": "python",
   "name": "python3"
  },
  "language_info": {
   "codemirror_mode": {
    "name": "ipython",
    "version": 3
   },
   "file_extension": ".py",
   "mimetype": "text/x-python",
   "name": "python",
   "nbconvert_exporter": "python",
   "pygments_lexer": "ipython3",
   "version": "3.10.9"
  }
 },
 "nbformat": 4,
 "nbformat_minor": 5
}
